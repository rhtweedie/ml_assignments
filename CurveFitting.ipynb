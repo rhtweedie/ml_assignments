{
 "cells": [
  {
   "cell_type": "code",
   "execution_count": null,
   "metadata": {},
   "outputs": [],
   "source": [
    "import numpy as np\n",
    "from numpy import zeros\n",
    "from matplotlib import pyplot as plt\n"
   ]
  },
  {
   "cell_type": "code",
   "execution_count": null,
   "metadata": {},
   "outputs": [],
   "source": [
    "\n",
    "def polyModelWithNoise(x, theta, sigma):\n",
    "    \"\"\"\n",
    "    Plots a sample of 100 points arranged between 0 and 1 for an nth order polynomial, with noise. For no noise, sigma = 0.\n",
    "    \n",
    "    Args:\n",
    "        x: a numpy array of x values\n",
    "        theta: a list of [theta1, ... , thetan], parameters of the polynomial\n",
    "        sigma: the standard deviation of the noise distribution\n",
    "\n",
    "    Returns:\n",
    "        A numpy array of f(x, theta)\n",
    "    \"\"\"\n",
    "\n",
    "    # initialise an empty array of length x\n",
    "    y = zeros(len(x))\n",
    "\n",
    "    # loop over all values of theta for all values of x\n",
    "    for j in range(len(x)):\n",
    "        x_temp = x[j]\n",
    "        y_temp = zeros(len(theta))\n",
    "        for i in range(len(theta)):\n",
    "            y_temp[i] = theta[i] * (x[j] ** i)\n",
    "        y[j] = sum(y_temp) + (sigma * np.random.randn())   # add noise\n",
    "\n",
    "    # plot\n",
    "    fig, ax = plt.subplots()\n",
    "    ax.plot(x, y)\n",
    "\n",
    "    return y\n"
   ]
  },
  {
   "cell_type": "code",
   "execution_count": null,
   "metadata": {},
   "outputs": [],
   "source": [
    "x = np.linspace(0, 1, 100)\n",
    "theta = [0, 2]\n",
    "sigma = 0.5\n",
    "y = polyModelWithNoise(x, theta, sigma)\n"
   ]
  },
  {
   "cell_type": "code",
   "execution_count": null,
   "metadata": {},
   "outputs": [],
   "source": [
    "def polyGradient(x, theta):\n",
    "    \"\"\"\n",
    "    Returns the gradient of the nth order polynomial function with respect to theta.\n",
    "    \n",
    "    Args:\n",
    "        x: a numpy array of x values\n",
    "        theta: a list of [theta_1, ... , theta_n], parameters of the polynomial\n",
    "\n",
    "    Returns:\n",
    "        An n-dimensional array of the derivitives of each term in the polynomial\n",
    "    \"\"\"\n",
    "\n",
    "    # calcuate df/dtheta for each value of x, for each value of theta\n",
    "    derivs = zeros((len(theta), len(x)))\n",
    "    for i in range(len(theta)):\n",
    "        for j in range(len(x)):\n",
    "            derivs[i,j] = (x[j] ** i)\n",
    "\n",
    "    return derivs\n",
    "\n",
    "    "
   ]
  },
  {
   "cell_type": "code",
   "execution_count": null,
   "metadata": {},
   "outputs": [],
   "source": [
    "def get_new_theta(theta, eta, sigma, model_y, true_y):\n",
    "    \"\"\"\n",
    "    Finds the new theta on the path using the gradient descent algorithm.\n",
    "\n",
    "    Params:\n",
    "        theta: a list of [theta1, ..., thetan], the parameters of the polynomial\n",
    "        eta: the learning rate\n",
    "        sigma: ??\n",
    "        model_y: a numpy array of model y values\n",
    "        true_y: a numpy array of true y values\n",
    "\n",
    "    Returns:\n",
    "        new_theta: a list of [theta1, ... , thetan], the new parameters of the polynomial\n",
    "    \"\"\"\n",
    "\n",
    "    deviation = np.array(model_y - true_y)\n",
    "    grad_f = np.array(polyGradient(x, theta))\n",
    "    new_theta = theta - eta * np.average(deviation[None,:] * grad_f, axis = 1)\n",
    "    \n",
    "    return new_theta"
   ]
  },
  {
   "cell_type": "code",
   "execution_count": null,
   "metadata": {},
   "outputs": [],
   "source": [
    "def stochastic_grad_desc(num_steps, start_theta, true_theta, true_sigma, eta):\n",
    "    \"\"\"\n",
    "    Implements the stochastic gradient descent algorithm.\n",
    "    \n",
    "    Params:\n",
    "        num_steps: the number of steps to take\n",
    "        stat_theta: a list of [theta1, ..., thetan], the starting values for theta\n",
    "        true_theta: a list of [theta1, ..., thetan], the values of theta for the true function\n",
    "        true_sigma: the stadard deviation of the noise for the true function\n",
    "        eta: the learning rate\n",
    "    \n",
    "    Returns:\n",
    "        theta_path: the path taken to minimise the gradient of chi-sq\n",
    "    \"\"\"\n",
    "\n",
    "    theta = start_theta\n",
    "    theta_path = zeros((num_steps + 1, len(start_theta)))     # initialise empty path array\n",
    "    theta_path[0] = theta    # path starts at theta\n",
    "\n",
    "    for i in range(num_steps):\n",
    "        x = np.random.uniform(0, 1, 10)\n",
    "        true_y = np.array(polyModelWithNoise(x, true_theta,  true_sigma))\n",
    "        model_y = np.array(polyModelWithNoise(x, theta, 0))\n",
    "        theta = get_new_theta(theta, eta, sigma, model_y, true_y)  # update theta\n",
    "        theta_path[i+1] = theta  # update path with new theta\n",
    "\n",
    "    return theta_path\n",
    "    "
   ]
  },
  {
   "cell_type": "code",
   "execution_count": null,
   "metadata": {},
   "outputs": [],
   "source": [
    "# Implement stochastic gradient descent algorithm\n",
    "\n",
    "NUM_STEPS = 100\n",
    "START_THETA = [-1, 0.5]\n",
    "TRUE_THETA_1 = [0, 2]\n",
    "TRUE_THETA_3 = [0, 2, 2, 2]\n",
    "TRUE_SIGMA = 0.5\n",
    "ETA = 0.5\n",
    "\n",
    "# fit first order polynomial\n",
    "path_pol_1 = stochastic_grad_desc(NUM_STEPS, START_THETA, TRUE_THETA_1, TRUE_SIGMA, ETA)\n",
    "\n",
    "# fit third order polynomial\n",
    "path_pol_3 = stochastic_grad_desc(NUM_STEPS, START_THETA, TRUE_THETA_3, TRUE_SIGMA, ETA)\n"
   ]
  }
 ],
 "metadata": {
  "kernelspec": {
   "display_name": "Python 3.9.2 ('venv': venv)",
   "language": "python",
   "name": "python3"
  },
  "language_info": {
   "codemirror_mode": {
    "name": "ipython",
    "version": 3
   },
   "file_extension": ".py",
   "mimetype": "text/x-python",
   "name": "python",
   "nbconvert_exporter": "python",
   "pygments_lexer": "ipython3",
   "version": "3.9.2"
  },
  "orig_nbformat": 4,
  "vscode": {
   "interpreter": {
    "hash": "3fdcffc973ed0b65d6c6680211394d0c134db5f0e6a4d5de6db995f953f5325c"
   }
  }
 },
 "nbformat": 4,
 "nbformat_minor": 2
}
