{
 "cells": [
  {
   "attachments": {},
   "cell_type": "markdown",
   "metadata": {},
   "source": [
    "# Practical Machine Learning for Physicists\n",
    "## Week 4 Exercise - Part 2\n"
   ]
  },
  {
   "cell_type": "markdown",
   "metadata": {},
   "source": [
    "For both of these tasks we want you to implement autoencoder networks that:\n",
    "- Train on randomly generated circles (using the circle_generator function below)\n",
    "- Use 27x27 pixel images\n",
    "- Use no more than 30,000 randomly generated samples (e.g. batchsize 30 and 1000 steps, or batchsize 1000 and 30 steps, or anywhere inbetween) in training the final networks for each task\n",
    "- Use the mean_squared_error loss function\n",
    "- Fulfil the network size requirement listed in the task (can be verifired using the print_layers function, after the network is partially trained)\n",
    "\n",
    "### Task 1:\n",
    "Implement any network design, but the bottleneck must contain no more than 9 neurons.\n",
    "\n",
    "### Task 2:\n",
    "Implement any network design, but the bottleneck must contain no more than 3 neurons.\n",
    "\n",
    "\n",
    "\n",
    "#### Practicalities\n",
    "You should use this notebook for your work and upload it to both Moodle and CoCalc. You are expected to use TensorFlow and Keras to complete these tasks. The notebook should be self-contained and able to be executed if necessary. Marks will be awarded for (roughly equally weighted):\n",
    "- Overall notebook clarity (both in terms of good coding practice and coherent discussion)\n",
    "- Task 1 performance (0.02 is a good target cost to do better than)\n",
    "- Task 2 performance ( a good target here is left for the student to determine)\n",
    "\n"
   ]
  },
  {
   "cell_type": "code",
   "execution_count": 1,
   "metadata": {},
   "outputs": [
    {
     "name": "stderr",
     "output_type": "stream",
     "text": [
      "2023-02-08 12:08:56.204376: I tensorflow/core/platform/cpu_feature_guard.cc:193] This TensorFlow binary is optimized with oneAPI Deep Neural Network Library (oneDNN) to use the following CPU instructions in performance-critical operations:  AVX2 AVX512F AVX512_VNNI FMA\n",
      "To enable them in other operations, rebuild TensorFlow with the appropriate compiler flags.\n",
      "2023-02-08 12:08:56.476366: I tensorflow/core/util/port.cc:104] oneDNN custom operations are on. You may see slightly different numerical results due to floating-point round-off errors from different computation orders. To turn them off, set the environment variable `TF_ENABLE_ONEDNN_OPTS=0`.\n",
      "2023-02-08 12:08:56.487056: W tensorflow/compiler/xla/stream_executor/platform/default/dso_loader.cc:64] Could not load dynamic library 'libcudart.so.11.0'; dlerror: libcudart.so.11.0: cannot open shared object file: No such file or directory\n",
      "2023-02-08 12:08:56.487090: I tensorflow/compiler/xla/stream_executor/cuda/cudart_stub.cc:29] Ignore above cudart dlerror if you do not have a GPU set up on your machine.\n",
      "2023-02-08 12:08:57.399934: W tensorflow/compiler/xla/stream_executor/platform/default/dso_loader.cc:64] Could not load dynamic library 'libnvinfer.so.7'; dlerror: libnvinfer.so.7: cannot open shared object file: No such file or directory\n",
      "2023-02-08 12:08:57.400084: W tensorflow/compiler/xla/stream_executor/platform/default/dso_loader.cc:64] Could not load dynamic library 'libnvinfer_plugin.so.7'; dlerror: libnvinfer_plugin.so.7: cannot open shared object file: No such file or directory\n",
      "2023-02-08 12:08:57.400092: W tensorflow/compiler/tf2tensorrt/utils/py_utils.cc:38] TF-TRT Warning: Cannot dlopen some TensorRT libraries. If you would like to use Nvidia GPU with TensorRT, please make sure the missing libraries mentioned above are installed properly.\n"
     ]
    }
   ],
   "source": [
    "import matplotlib.pyplot as plt\n",
    "import numpy as np\n",
    "import math\n",
    "import keras\n",
    "import keras.layers\n"
   ]
  },
  {
   "cell_type": "code",
   "execution_count": 2,
   "metadata": {},
   "outputs": [],
   "source": [
    "#A big messy function to do the training\n",
    "# model -- our keras neural model autoencoder\n",
    "# image_generator -- a function to generate random images for the training (see below for examples)\n",
    "# img_size -- the size of our image in pixels\n",
    "# batchsize -- the number of images to include in each training batch\n",
    "# steps -- the number of steps taken in the training\n",
    "#\n",
    "# returns an array of the costs\n",
    "def generate_and_train(model,image_generator,img_size,batchsize,steps):\n",
    "   \n",
    "    #Generate an array of the numbers 1 to img_size and create a meshgrid from them    \n",
    "    pixels=np.linspace(-1,1,img_size)\n",
    "    x,y=np.meshgrid(pixels,pixels)\n",
    "    \n",
    "    #Now create a test image using 1 call to image_generator\n",
    "    #y_test=np.zeros([1,pixels,pixels,1])\n",
    "    #y_test[:,:,:,0]=image_generator(1,x,y)\n",
    "    \n",
    "    #Now create the empty arrays for the images and cost\n",
    "    y_in=np.zeros([batchsize,img_size,img_size,1])\n",
    "    y_target=np.zeros([batchsize,img_size,img_size,1])\n",
    "    cost=np.zeros(steps)\n",
    "    \n",
    "    #Loop through the steps, get a random batch of samples, train the model, repeat\n",
    "    for k in range(steps):\n",
    "        # produce samples:\n",
    "        y_in[:,:,:,0]=image_generator(batchsize,x,y)\n",
    "        y_target=np.copy(y_in) # autoencoder wants to reproduce its input!\n",
    "        \n",
    "        # do one training step on this batch of samples:\n",
    "        cost[k]=model.train_on_batch(y_in,y_target)\n",
    "    \n",
    "    return cost,y_target\n",
    "\n",
    "def get_test_image(image_generator,img_size):\n",
    "    #Generate an array of the numbers 1 to img_size and create a meshgrid from them    \n",
    "    pixels=np.linspace(-1,1,img_size)\n",
    "    x,y=np.meshgrid(pixels,pixels)\n",
    "    \n",
    "    #Now create a test image using 1 call to image_generator\n",
    "    y_test=np.zeros([1,img_size,img_size,1])\n",
    "    y_test[:,:,:,0]=image_generator(1,x,y)\n",
    "    return y_test\n",
    "\n",
    "# A function to generate and plot a single test image and the output of our model\n",
    "# only to be called after training the model\n",
    "def plot_test_image(model,image_generator,img_size):\n",
    "    #Get random test image\n",
    "    y_test=get_test_image(image_generator,img_size)\n",
    "    \n",
    "    #Create the output image\n",
    "    y_test_out=model.predict_on_batch(y_test)\n",
    "    fig, ax = plt.subplots(1,2)\n",
    "    ax[0].imshow(y_test[0,:,:,0],origin='lower')\n",
    "    ax[0].set_title(\"Input\")\n",
    "    ax[1].imshow(y_test_out[0,:,:,0],origin='lower')\n",
    "    ax[1].set_title(\"Output\")\n",
    "    \n",
    "def print_layers(network, y_in):\n",
    "    \"\"\"\n",
    "    Call this on some test images y_in, to get a print-out of\n",
    "    the layer sizes. Shapes shown are (batchsize,pixels,pixels,channels).\n",
    "    After a call to the visualization routine, y_target will contain\n",
    "    the last set of training images, so you could feed those in here.\n",
    "    \"\"\"\n",
    "    layer_features = get_layer_activations(network,y_in)\n",
    "    #print(layer_features)\n",
    "    for idx,feature in enumerate(layer_features): #type: ignore\n",
    "        s=np.shape(feature)\n",
    "        print(\"Layer \"+str(idx)+\": \"+str(s[1]*s[2]*s[3])+\" neurons / \", s)\n",
    "\n",
    "def get_layer_activation_extractor(network):\n",
    "    #print(network.inputs)\n",
    "    #for layer in network.layers:\n",
    "    #    print(layer.output)\n",
    "    return(keras.Model(inputs=network.inputs,\n",
    "                            outputs=[layer.output for layer in network.layers]))\n",
    "\n",
    "def get_layer_activations(network, y_in):\n",
    "    \"\"\"\n",
    "    Call this on some test images y_in, to get the intermediate \n",
    "    layer neuron values. These are returned in a list, with one\n",
    "    entry for each layer (the entries are arrays).\n",
    "    \"\"\"\n",
    "    extractor=get_layer_activation_extractor(network)\n",
    "    #print(extractor)\n",
    "    layer_features = extractor(y_in)\n",
    "    return layer_features\n",
    "    "
   ]
  },
  {
   "cell_type": "markdown",
   "metadata": {},
   "source": [
    "## Circle generator\n"
   ]
  },
  {
   "cell_type": "code",
   "execution_count": 3,
   "metadata": {},
   "outputs": [],
   "source": [
    "# A simple image generator that returns an array of batchsize images\n",
    "# each image has a size of x * y pixels\n",
    "# in this image each image has a randomly placed circle (and the circle is of random size)\n",
    "def generate_circle(batchsize, x, y):\n",
    "    R=np.random.uniform(size=batchsize)\n",
    "    x0=np.random.uniform(size=batchsize,low=-1,high=1)\n",
    "    y0=np.random.uniform(size=batchsize,low=-1,high=1)\n",
    "    return( 1.0*((x[None,:,:]-x0[:,None,None])**2 + (y[None,:,:]-y0[:,None,None])**2 < R[:,None,None]**2) ) #type: ignore\n"
   ]
  },
  {
   "cell_type": "markdown",
   "metadata": {},
   "source": [
    "Increased first convolutional layer to 32 filters, but this reduced the performance. Tried 16 which increased it substantially. Then altered the number of steps and the batchsize to be in line with exercise requirements. This reduced the performace. Reduced filter size of first layer from 5 to 2 which increased oerformance, but reduced performance substantially when the filter size of the second layer was reduced."
   ]
  },
  {
   "cell_type": "code",
   "execution_count": 4,
   "metadata": {},
   "outputs": [
    {
     "name": "stdout",
     "output_type": "stream",
     "text": [
      "Model: \"sequential\"\n",
      "_________________________________________________________________\n",
      " Layer (type)                Output Shape              Param #   \n",
      "=================================================================\n",
      " conv2d (Conv2D)             (None, 27, 27, 16)        80        \n",
      "                                                                 \n",
      " average_pooling2d (AverageP  (None, 9, 9, 16)         0         \n",
      " ooling2D)                                                       \n",
      "                                                                 \n",
      " conv2d_1 (Conv2D)           (None, 9, 9, 4)           1604      \n",
      "                                                                 \n",
      " average_pooling2d_1 (Averag  (None, 3, 3, 4)          0         \n",
      " ePooling2D)                                                     \n",
      "                                                                 \n",
      " conv2d_2 (Conv2D)           (None, 3, 3, 1)           37        \n",
      "                                                                 \n",
      " up_sampling2d (UpSampling2D  (None, 9, 9, 1)          0         \n",
      " )                                                               \n",
      "                                                                 \n",
      " conv2d_3 (Conv2D)           (None, 9, 9, 4)           104       \n",
      "                                                                 \n",
      " up_sampling2d_1 (UpSampling  (None, 27, 27, 4)        0         \n",
      " 2D)                                                             \n",
      "                                                                 \n",
      " conv2d_4 (Conv2D)           (None, 27, 27, 4)         404       \n",
      "                                                                 \n",
      " conv2d_5 (Conv2D)           (None, 27, 27, 1)         37        \n",
      "                                                                 \n",
      "=================================================================\n",
      "Total params: 2,266\n",
      "Trainable params: 2,266\n",
      "Non-trainable params: 0\n",
      "_________________________________________________________________\n"
     ]
    },
    {
     "name": "stderr",
     "output_type": "stream",
     "text": [
      "2023-02-08 12:08:58.379244: W tensorflow/compiler/xla/stream_executor/platform/default/dso_loader.cc:64] Could not load dynamic library 'libcuda.so.1'; dlerror: libcuda.so.1: cannot open shared object file: No such file or directory\n",
      "2023-02-08 12:08:58.379325: W tensorflow/compiler/xla/stream_executor/cuda/cuda_driver.cc:265] failed call to cuInit: UNKNOWN ERROR (303)\n",
      "2023-02-08 12:08:58.379402: I tensorflow/compiler/xla/stream_executor/cuda/cuda_diagnostics.cc:156] kernel driver does not appear to be running on this host (penguin): /proc/driver/nvidia/version does not exist\n",
      "2023-02-08 12:08:58.379805: I tensorflow/core/platform/cpu_feature_guard.cc:193] This TensorFlow binary is optimized with oneAPI Deep Neural Network Library (oneDNN) to use the following CPU instructions in performance-critical operations:  AVX2 AVX512F AVX512_VNNI FMA\n",
      "To enable them in other operations, rebuild TensorFlow with the appropriate compiler flags.\n"
     ]
    }
   ],
   "source": [
    "model=keras.models.Sequential()\n",
    "model.add(keras.layers.Conv2D(16, 2, input_shape = (27, 27, 1), activation = \"sigmoid\", padding = 'same'))\n",
    "model.add(keras.layers.AveragePooling2D(pool_size = (3,3), padding = 'same')) # down\n",
    "model.add(keras.layers.Conv2D(4, 5, activation = \"sigmoid\", padding = 'same'))\n",
    "model.add(keras.layers.AveragePooling2D(pool_size = (3,3), padding = 'same')) # down\n",
    "model.add(keras.layers.Conv2D(1, 3, activation = \"sigmoid\", padding = 'same'))\n",
    "model.add(keras.layers.UpSampling2D(size = (3, 3))) # up\n",
    "model.add(keras.layers.Conv2D(4, 5, activation = \"sigmoid\", padding = 'same'))\n",
    "model.add(keras.layers.UpSampling2D(size = (3,3))) # up\n",
    "model.add(keras.layers.Conv2D(4, 5, activation = \"sigmoid\", padding = 'same'))\n",
    "model.add(keras.layers.Conv2D(1, 3, activation = \"linear\", padding = 'same'))\n",
    "\n",
    "model.compile(loss = 'mean_squared_error', optimizer = 'adam')\n",
    "model.summary()"
   ]
  },
  {
   "cell_type": "code",
   "execution_count": 5,
   "metadata": {},
   "outputs": [
    {
     "data": {
      "text/plain": [
       "Text(0, 0.5, 'Cost')"
      ]
     },
     "execution_count": 5,
     "metadata": {},
     "output_type": "execute_result"
    },
    {
     "data": {
      "image/png": "[encoded data removed]",
      "text/plain": [
       "<Figure size 640x480 with 1 Axes>"
      ]
     },
     "metadata": {},
     "output_type": "display_data"
    }
   ],
   "source": [
    "#Now we can do the actual model training\n",
    "steps = 300\n",
    "cost, y_target = generate_and_train(model, generate_circle, img_size = 9*3, batchsize = 100, steps = steps)\n",
    "#Plot the cost\n",
    "fig, ax = plt.subplots()\n",
    "stepArray=np.arange(steps) \n",
    "ax.plot(stepArray,cost,linewidth=3) \n",
    "ax.set_xlabel(\"Step Number\") \n",
    "ax.set_ylabel(\"Cost\")"
   ]
  },
  {
   "cell_type": "code",
   "execution_count": 6,
   "metadata": {},
   "outputs": [
    {
     "name": "stdout",
     "output_type": "stream",
     "text": [
      "0.06670617312192917\n"
     ]
    }
   ],
   "source": [
    "print(cost[-1])"
   ]
  },
  {
   "cell_type": "code",
   "execution_count": 7,
   "metadata": {},
   "outputs": [
    {
     "name": "stdout",
     "output_type": "stream",
     "text": [
      "Layer 0: 11664 neurons /  (100, 27, 27, 16)\n",
      "Layer 1: 1296 neurons /  (100, 9, 9, 16)\n",
      "Layer 2: 324 neurons /  (100, 9, 9, 4)\n",
      "Layer 3: 36 neurons /  (100, 3, 3, 4)\n",
      "Layer 4: 9 neurons /  (100, 3, 3, 1)\n",
      "Layer 5: 81 neurons /  (100, 9, 9, 1)\n",
      "Layer 6: 324 neurons /  (100, 9, 9, 4)\n",
      "Layer 7: 2916 neurons /  (100, 27, 27, 4)\n",
      "Layer 8: 2916 neurons /  (100, 27, 27, 4)\n",
      "Layer 9: 729 neurons /  (100, 27, 27, 1)\n"
     ]
    }
   ],
   "source": [
    "print_layers(model, y_target)"
   ]
  },
  {
   "cell_type": "code",
   "execution_count": 8,
   "metadata": {},
   "outputs": [
    {
     "name": "stdout",
     "output_type": "stream",
     "text": [
      "Model: \"sequential_1\"\n",
      "_________________________________________________________________\n",
      " Layer (type)                Output Shape              Param #   \n",
      "=================================================================\n",
      " conv2d_6 (Conv2D)           (None, 27, 27, 9)         234       \n",
      "                                                                 \n",
      " average_pooling2d_2 (Averag  (None, 9, 9, 9)          0         \n",
      " ePooling2D)                                                     \n",
      "                                                                 \n",
      " conv2d_7 (Conv2D)           (None, 9, 9, 3)           678       \n",
      "                                                                 \n",
      " average_pooling2d_3 (Averag  (None, 3, 3, 3)          0         \n",
      " ePooling2D)                                                     \n",
      "                                                                 \n",
      " average_pooling2d_4 (Averag  (None, 1, 1, 3)          0         \n",
      " ePooling2D)                                                     \n",
      "                                                                 \n",
      " up_sampling2d_2 (UpSampling  (None, 3, 3, 3)          0         \n",
      " 2D)                                                             \n",
      "                                                                 \n",
      " up_sampling2d_3 (UpSampling  (None, 9, 9, 3)          0         \n",
      " 2D)                                                             \n",
      "                                                                 \n",
      " conv2d_8 (Conv2D)           (None, 9, 9, 3)           228       \n",
      "                                                                 \n",
      " up_sampling2d_4 (UpSampling  (None, 27, 27, 3)        0         \n",
      " 2D)                                                             \n",
      "                                                                 \n",
      " conv2d_9 (Conv2D)           (None, 27, 27, 9)         684       \n",
      "                                                                 \n",
      " conv2d_10 (Conv2D)          (None, 27, 27, 1)         82        \n",
      "                                                                 \n",
      "=================================================================\n",
      "Total params: 1,906\n",
      "Trainable params: 1,906\n",
      "Non-trainable params: 0\n",
      "_________________________________________________________________\n"
     ]
    }
   ],
   "source": [
    "model2=keras.models.Sequential()\n",
    "model2.add(keras.layers.Conv2D(9, 5, input_shape = (27, 27, 1), activation = \"sigmoid\", padding = 'same'))\n",
    "model2.add(keras.layers.AveragePooling2D(pool_size = (3, 3), padding = 'same')) # down\n",
    "model2.add(keras.layers.Conv2D(3, 5, activation = \"sigmoid\", padding = 'same'))\n",
    "model2.add(keras.layers.AveragePooling2D(pool_size = (3, 3), padding = 'same')) # down\n",
    "#model2.add(keras.layers.Conv2D(1, 3, activation = \"sigmoid\", padding = 'same'))\n",
    "model2.add(keras.layers.AveragePooling2D(pool_size = (3, 3), padding = 'same')) # down\n",
    "model2.add(keras.layers.UpSampling2D(size = (3, 3))) # up\n",
    "model2.add(keras.layers.UpSampling2D(size = (3, 3))) # up\n",
    "model2.add(keras.layers.Conv2D(3, 5, activation = \"sigmoid\", padding = 'same'))\n",
    "model2.add(keras.layers.UpSampling2D(size = (3, 3))) # up\n",
    "model2.add(keras.layers.Conv2D(9, 5, activation = \"sigmoid\", padding = 'same'))\n",
    "model2.add(keras.layers.Conv2D(1, 3, activation = \"linear\", padding = 'same'))\n",
    "\n",
    "model2.compile(loss = 'mean_squared_error', optimizer = 'adam')\n",
    "model2.summary()"
   ]
  },
  {
   "cell_type": "code",
   "execution_count": 9,
   "metadata": {},
   "outputs": [
    {
     "data": {
      "text/plain": [
       "Text(0, 0.5, 'Cost')"
      ]
     },
     "execution_count": 9,
     "metadata": {},
     "output_type": "execute_result"
    },
    {
     "data": {
      "image/png": "[encoded data removed]",
      "text/plain": [
       "<Figure size 640x480 with 1 Axes>"
      ]
     },
     "metadata": {},
     "output_type": "display_data"
    }
   ],
   "source": [
    "#Now we can do the actual model training\n",
    "steps = 300\n",
    "cost, y_target = generate_and_train(model2, generate_circle, img_size = 9*3, batchsize = 100, steps = steps)\n",
    "#Plot the cost\n",
    "fig, ax = plt.subplots()\n",
    "stepArray=np.arange(steps) \n",
    "ax.plot(stepArray,cost,linewidth=3) \n",
    "ax.set_xlabel(\"Step Number\") \n",
    "ax.set_ylabel(\"Cost\")"
   ]
  },
  {
   "cell_type": "code",
   "execution_count": 10,
   "metadata": {},
   "outputs": [
    {
     "name": "stdout",
     "output_type": "stream",
     "text": [
      "0.11578822880983353\n"
     ]
    }
   ],
   "source": [
    "print(cost[-1])"
   ]
  }
 ],
 "metadata": {
  "kernelspec": {
   "display_name": "Python 3.9.2 64-bit",
   "language": "python",
   "name": "python3"
  },
  "language_info": {
   "codemirror_mode": {
    "name": "ipython",
    "version": 3
   },
   "file_extension": ".py",
   "mimetype": "text/x-python",
   "name": "python",
   "nbconvert_exporter": "python",
   "pygments_lexer": "ipython3",
   "version": "3.9.2"
  },
  "vscode": {
   "interpreter": {
    "hash": "e7370f93d1d0cde622a1f8e1c04877d8463912d04d973331ad4851f04de6915a"
   }
  }
 },
 "nbformat": 4,
 "nbformat_minor": 4
}
