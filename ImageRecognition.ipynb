{
 "cells": [
  {
   "cell_type": "markdown",
   "metadata": {},
   "source": [
    "## Week 3 - Image Recognition\n",
    "\n",
    "### Heather Tweedie, 1/2/23"
   ]
  },
  {
   "cell_type": "code",
   "execution_count": 9,
   "metadata": {},
   "outputs": [],
   "source": [
    "import matplotlib.pyplot as plt\n",
    "import numpy as np\n",
    "import math\n",
    "\n",
    "# TensorFlow and tf.keras\n",
    "import tensorflow as tf\n",
    "from tensorflow import keras\n",
    "\n",
    "import matplotlib.style #Some style nonsense\n",
    "import matplotlib as mpl #Some more style nonsense\n",
    "\n",
    "#Set default figure size\n",
    "#mpl.rcParams['figure.figsize'] = [12.0, 8.0] #Inches... of course it is inches\n",
    "mpl.rcParams[\"legend.frameon\"] = False\n",
    "mpl.rcParams['figure.dpi']=200 # dots per inch\n"
   ]
  },
  {
   "cell_type": "markdown",
   "metadata": {},
   "source": [
    "We first load the MNIST dataset from Keras, set the image scales correctly, and define the size of the images."
   ]
  },
  {
   "cell_type": "code",
   "execution_count": 10,
   "metadata": {},
   "outputs": [
    {
     "name": "stdout",
     "output_type": "stream",
     "text": [
      "Shape of training images: (60000, 28, 28)\n",
      "Length of training set labels: 60000\n",
      "First label: 5\n",
      "Shape of testing images: (10000, 28, 28)\n",
      "Length of testing set labels: 10000\n"
     ]
    }
   ],
   "source": [
    "# load data\n",
    "mnist = keras.datasets.mnist\n",
    "(train_images, train_labels), (test_images, test_labels) = mnist.load_data()\n",
    "\n",
    "# re-scale inputs\n",
    "train_images=train_images/255.0\n",
    "test_images=test_images/255.0\n",
    "\n",
    "# check shape of datasets\n",
    "print(\"Shape of training images:\",train_images.shape)\n",
    "print(\"Length of training set labels:\",len(train_labels))\n",
    "print(\"First label:\",train_labels[0])\n",
    "print(\"Shape of testing images:\",test_images.shape)\n",
    "print(\"Length of testing set labels:\",len(test_labels))\n",
    "\n",
    "image_x = len(train_images[0,:,0])\n",
    "image_y = len(train_images[0,0,:])\n"
   ]
  },
  {
   "cell_type": "markdown",
   "metadata": {},
   "source": [
    "We then define a number of functions for use in training and testing the model. `addNoise` adds a random noise contribution to each pixel of an image; `trainWithNoise` trains a model on noisy images; and `accuracyWithNoise` evaluates the accuracy of a model, testing it on noisy data."
   ]
  },
  {
   "cell_type": "code",
   "execution_count": 11,
   "metadata": {},
   "outputs": [],
   "source": [
    "def addNoise(image, y_noise):\n",
    "    \"\"\"\n",
    "    Adds a random noise contribution drawn from a uniform distribution between 0 and a user-defined maximum to an image.\n",
    "    \n",
    "    Args:\n",
    "        image: the image to which the noise will be added\n",
    "        y_noise: the maximum value for the uniform distribution from which the random noise contribution will be drawn\n",
    "\n",
    "    Returns:\n",
    "        newImage: the new image with noise added\n",
    "    \"\"\"\n",
    "    # get image dimensions\n",
    "    image_x = 28\n",
    "    image_y = 28\n",
    "\n",
    "    newImage = np.empty([image_x, image_y])\n",
    "    for i in range(image_x):\n",
    "        for j in range(image_y):\n",
    "            newImage[i,j] = image[i,j] + np.random.uniform(0, y_noise)\n",
    "\n",
    "    return newImage\n",
    "\n",
    "    \n",
    "\n",
    "def trainWithNoise(model, image_x, image_y, y_noise, batchSize, nepochs):\n",
    "    \"\"\"\n",
    "    Trains a model on MNIST image data with noise added, and evaluates it.\n",
    "    \n",
    "    Args:\n",
    "        model: the model to be trained\n",
    "        image_x: the x length of the image\n",
    "        image_y: the y length of the image\n",
    "        y_noise: the maximum value for the uniform distribution from which the random noise contribution will be drawn\n",
    "        batchSize: the number of samples to be drawn during each step of the training\n",
    "        nepochs: the number of epochs of training to be carried out\n",
    "    \n",
    "    Returns:\n",
    "        test_loss: the cost function after training\n",
    "        test_acc: the accuracy of the model based on testing on a test set of images\n",
    "    \"\"\"\n",
    "\n",
    "    imagesWithNoise = np.empty([60000, image_x, image_y])\n",
    "    for i in range(len(imagesWithNoise[:,0,0])):\n",
    "        imagesWithNoise[i,:,:] = addNoise(train_images[i,:,:], y_noise)\n",
    "\n",
    "    history = model.fit(imagesWithNoise, train_labels, batch_size = batchSize, epochs = nepochs)\n",
    "\n",
    "    test_loss, test_acc = model.evaluate(test_images,  test_labels, verbose=2)\n",
    "    return test_loss, test_acc\n",
    "\n",
    "\n",
    "\n",
    "def accuracyWithNoise(model, image_x, image_y, y_noise):\n",
    "    \"\"\"\n",
    "    Evaluates a model trained on MNIST data on a test dataset with noise added.\n",
    "    \n",
    "    Args:\n",
    "        model: the model to be evaluated\n",
    "        image_x: the x length of the image\n",
    "        image_y: the y length of the image\n",
    "        y_noise: the maximum value for the uniform distribution from which the random noise contribution will be drawn\n",
    "    \n",
    "    Returns:\n",
    "        test_loss: the cost of the model\n",
    "        test_acc: the accuracy of the model\n",
    "    \"\"\"\n",
    "\n",
    "    imagesWithNoise = np.empty([10000, image_x, image_y])\n",
    "    for i in range(len(imagesWithNoise[:,0,0])):\n",
    "        imagesWithNoise[i,:,:] = addNoise(test_images[i,:,:], y_noise)\n",
    "\n",
    "    test_loss, test_acc = model.evaluate(imagesWithNoise, test_labels, verbose=2)\n",
    "    return test_loss, test_acc"
   ]
  },
  {
   "cell_type": "markdown",
   "metadata": {},
   "source": [
    "We now define and compile the network on which we will train the data:"
   ]
  },
  {
   "cell_type": "code",
   "execution_count": 12,
   "metadata": {},
   "outputs": [],
   "source": [
    "model = keras.Sequential([\n",
    "    keras.layers.Flatten(input_shape=(28,28)),\n",
    "    keras.layers.Dense(128,activation='relu'),\n",
    "    keras.layers.Dense(15)\n",
    "])\n",
    "\n",
    "model.compile(loss=tf.keras.losses.SparseCategoricalCrossentropy(from_logits=True), optimizer=tf.keras.optimizers.SGD(learning_rate=1.0),\n",
    "              metrics=['accuracy'])"
   ]
  },
  {
   "cell_type": "markdown",
   "metadata": {},
   "source": [
    "Train the model on the MNIST dataset. Initially, using the parameters provided in the course material (layers: [128, 10]; batch size = 100, epochs = 30), the model achieved an accuracy of around 0.94, which is lower than the acceptable level of 0.95. I tried increasing the batch size to 120 and then 140, but this only achieved an inconsistent 0.945 - 0.95. By increasing the size of the final layer in the network from 10 to 15, the accuracy of the model grew substantially, achieving an accuracy of 0.9998 - 1 on the trianing dataset. In order to make the model training faster, I reduced the number of epochs from 30 to 10, as at this point the model was already achieving high accuracies, and reduced the batch size back down to 100. This also reduced the likelihood of overfitting."
   ]
  },
  {
   "cell_type": "code",
   "execution_count": null,
   "metadata": {},
   "outputs": [],
   "source": [
    "history = model.fit(train_images, train_labels, batch_size=100, epochs=10)"
   ]
  },
  {
   "cell_type": "markdown",
   "metadata": {},
   "source": [
    "Evaluate accuracy of model for different noise levels:"
   ]
  },
  {
   "cell_type": "code",
   "execution_count": null,
   "metadata": {},
   "outputs": [],
   "source": [
    "# test model accuracy against noisy data\n",
    "noises = np.linspace(0, 2, 20)\n",
    "accuracies = np.empty([len(noises)])\n",
    "\n",
    "for i in range(len(noises)):\n",
    "    print(f\"y_noise = {noises[i]}:\")\n",
    "    test_loss, test_acc = accuracyWithNoise(model, image_x, image_y, noises[i])\n",
    "    accuracies[i] = test_acc\n",
    "\n",
    "fig, ax = plt.subplots()\n",
    "ax.plot(noises, accuracies)\n",
    "ax.set_xlabel('Maximum noise level')\n",
    "ax.set_ylabel('Model accuracy')\n",
    "ax.set_title('Model accuracy when evaluated against noisy data')"
   ]
  },
  {
   "cell_type": "markdown",
   "metadata": {},
   "source": [
    "Define new model to be trained on noisy data. The final layer density is higher than previously to account for the increased difficulty the network will encounter during training."
   ]
  },
  {
   "cell_type": "code",
   "execution_count": 13,
   "metadata": {},
   "outputs": [],
   "source": [
    "model = keras.Sequential([\n",
    "    keras.layers.Flatten(input_shape=(28,28)),\n",
    "    keras.layers.Dense(128,activation='relu'),\n",
    "    keras.layers.Dense(20)\n",
    "])\n",
    "\n",
    "model.compile(loss=tf.keras.losses.SparseCategoricalCrossentropy(from_logits=True), optimizer=tf.keras.optimizers.SGD(learning_rate=1.0),\n",
    "              metrics=['accuracy'])"
   ]
  },
  {
   "cell_type": "markdown",
   "metadata": {},
   "source": [
    "Train model on noisy data. With increasing noise, the accuracy drops substantially. At 0.1, the accuracy with 0 noise is mostly maintained, however by 0.2 the accuracy drops to 0.1 be the end of the training. At earlier epochs however, the accuracy is ~0.7, but this drops rapidly with further training."
   ]
  },
  {
   "cell_type": "code",
   "execution_count": null,
   "metadata": {},
   "outputs": [],
   "source": [
    "# train model with noisy data\n",
    "acc_1 = trainWithNoise(model, image_x, image_y, 0.1, 100, 20)\n",
    "print(acc_1)\n",
    "\n",
    "# test model accuracy against noisy data\n",
    "noises = np.linspace(0, 2, 20)\n",
    "accuracies = np.empty([len(noises)])\n",
    "\n",
    "for i in range(len(noises)):\n",
    "    print(f\"y_noise = {noises[i]}:\")\n",
    "    test_loss, test_acc = accuracyWithNoise(model, image_x, image_y, noises[i])\n",
    "    accuracies[i] = test_acc\n",
    "\n",
    "fig, ax = plt.subplots()\n",
    "ax.plot(noises, accuracies)\n",
    "ax.set_xlabel('Maximum noise level')\n",
    "ax.set_ylabel('Model accuracy')\n",
    "ax.set_title('Model accuracy when evaluated against noisy data')\n"
   ]
  },
  {
   "cell_type": "markdown",
   "metadata": {},
   "source": [
    "When tested against the noisy data, the model trained on noisy data performs much better than the model trained on clean data. Although when tested on clean data they perform similarly, at greater noise levels in the test data, the accuracy of the model trained on noisy data drops much slower than that of the model trained on clean data. "
   ]
  },
  {
   "cell_type": "markdown",
   "metadata": {},
   "source": [
    "This is extra! Remove before submitting if incomplete"
   ]
  },
  {
   "cell_type": "code",
   "execution_count": 14,
   "metadata": {},
   "outputs": [
    {
     "name": "stdout",
     "output_type": "stream",
     "text": [
      "Epoch 1/20\n",
      "600/600 [==============================] - 4s 5ms/step - loss: 0.4917 - accuracy: 0.8564\n",
      "Epoch 2/20\n",
      "600/600 [==============================] - 1s 2ms/step - loss: 0.1728 - accuracy: 0.9491\n",
      "Epoch 3/20\n",
      "600/600 [==============================] - 1s 2ms/step - loss: 0.1344 - accuracy: 0.9595\n",
      "Epoch 4/20\n",
      "600/600 [==============================] - 1s 2ms/step - loss: 0.1150 - accuracy: 0.9652\n",
      "Epoch 5/20\n",
      "600/600 [==============================] - 1s 2ms/step - loss: 0.1033 - accuracy: 0.9684\n",
      "Epoch 6/20\n",
      "600/600 [==============================] - 1s 2ms/step - loss: 0.0918 - accuracy: 0.9722\n",
      "Epoch 7/20\n",
      "600/600 [==============================] - 1s 2ms/step - loss: 0.0843 - accuracy: 0.9742\n",
      "Epoch 8/20\n",
      "600/600 [==============================] - 1s 2ms/step - loss: 0.0784 - accuracy: 0.9761\n",
      "Epoch 9/20\n",
      "600/600 [==============================] - 1s 2ms/step - loss: 0.0742 - accuracy: 0.9772\n",
      "Epoch 10/20\n",
      "600/600 [==============================] - 3s 5ms/step - loss: 0.0681 - accuracy: 0.9790\n",
      "Epoch 11/20\n",
      "600/600 [==============================] - 2s 4ms/step - loss: 0.0650 - accuracy: 0.9798\n",
      "Epoch 12/20\n",
      "600/600 [==============================] - 3s 5ms/step - loss: 0.0587 - accuracy: 0.9811\n",
      "Epoch 13/20\n",
      "600/600 [==============================] - 3s 5ms/step - loss: 0.0569 - accuracy: 0.9818\n",
      "Epoch 14/20\n",
      "600/600 [==============================] - 3s 5ms/step - loss: 0.0532 - accuracy: 0.9825\n",
      "Epoch 15/20\n",
      "600/600 [==============================] - 3s 5ms/step - loss: 0.0504 - accuracy: 0.9837\n",
      "Epoch 16/20\n",
      "600/600 [==============================] - 3s 4ms/step - loss: 0.0493 - accuracy: 0.9836\n",
      "Epoch 17/20\n",
      "600/600 [==============================] - 3s 5ms/step - loss: 0.0468 - accuracy: 0.9848\n",
      "Epoch 18/20\n",
      "600/600 [==============================] - 1s 2ms/step - loss: 0.0439 - accuracy: 0.9859\n",
      "Epoch 19/20\n",
      "600/600 [==============================] - 1s 2ms/step - loss: 0.0419 - accuracy: 0.9860\n",
      "Epoch 20/20\n",
      "600/600 [==============================] - 1s 2ms/step - loss: 0.0378 - accuracy: 0.9875\n",
      "313/313 - 0s - loss: 0.1371 - accuracy: 0.9698 - 376ms/epoch - 1ms/step\n",
      "y_noise = 0.0:\n",
      "313/313 - 0s - loss: 0.1371 - accuracy: 0.9698 - 266ms/epoch - 851us/step\n",
      "y_noise = 0.10526315789473684:\n",
      "313/313 - 0s - loss: 0.1680 - accuracy: 0.9577 - 264ms/epoch - 845us/step\n",
      "y_noise = 0.21052631578947367:\n",
      "313/313 - 0s - loss: 0.3440 - accuracy: 0.9071 - 331ms/epoch - 1ms/step\n",
      "y_noise = 0.3157894736842105:\n",
      "313/313 - 0s - loss: 0.7819 - accuracy: 0.8027 - 271ms/epoch - 865us/step\n",
      "y_noise = 0.42105263157894735:\n",
      "313/313 - 0s - loss: 1.4357 - accuracy: 0.6938 - 268ms/epoch - 856us/step\n",
      "y_noise = 0.5263157894736842:\n",
      "313/313 - 0s - loss: 2.1707 - accuracy: 0.6114 - 273ms/epoch - 872us/step\n",
      "y_noise = 0.631578947368421:\n"
     ]
    },
    {
     "ename": "KeyboardInterrupt",
     "evalue": "",
     "output_type": "error",
     "traceback": [
      "\u001b[0;31m---------------------------------------------------------------------------\u001b[0m",
      "\u001b[0;31mKeyboardInterrupt\u001b[0m                         Traceback (most recent call last)",
      "\u001b[1;32m/home/rhtwe/UCL/machine_learning_for_physicists/ml_assignments/ImageRecognition.ipynb Cell 19\u001b[0m in \u001b[0;36m<cell line: 5>\u001b[0;34m()\u001b[0m\n\u001b[1;32m     <a href='vscode-notebook-cell:/home/rhtwe/UCL/machine_learning_for_physicists/ml_assignments/ImageRecognition.ipynb#X35sZmlsZQ%3D%3D?line=11'>12</a>\u001b[0m \u001b[39mfor\u001b[39;00m i \u001b[39min\u001b[39;00m \u001b[39mrange\u001b[39m(\u001b[39mlen\u001b[39m(noises)):\n\u001b[1;32m     <a href='vscode-notebook-cell:/home/rhtwe/UCL/machine_learning_for_physicists/ml_assignments/ImageRecognition.ipynb#X35sZmlsZQ%3D%3D?line=12'>13</a>\u001b[0m     \u001b[39mprint\u001b[39m(\u001b[39mf\u001b[39m\u001b[39m\"\u001b[39m\u001b[39my_noise = \u001b[39m\u001b[39m{\u001b[39;00mnoises[i]\u001b[39m}\u001b[39;00m\u001b[39m:\u001b[39m\u001b[39m\"\u001b[39m)\n\u001b[0;32m---> <a href='vscode-notebook-cell:/home/rhtwe/UCL/machine_learning_for_physicists/ml_assignments/ImageRecognition.ipynb#X35sZmlsZQ%3D%3D?line=13'>14</a>\u001b[0m     test_loss, test_acc \u001b[39m=\u001b[39m accuracyWithNoise(model, image_x, image_y, noises[i])\n\u001b[1;32m     <a href='vscode-notebook-cell:/home/rhtwe/UCL/machine_learning_for_physicists/ml_assignments/ImageRecognition.ipynb#X35sZmlsZQ%3D%3D?line=14'>15</a>\u001b[0m     all_accuracies[j,i] \u001b[39m=\u001b[39m test_acc\n",
      "\u001b[1;32m/home/rhtwe/UCL/machine_learning_for_physicists/ml_assignments/ImageRecognition.ipynb Cell 19\u001b[0m in \u001b[0;36maccuracyWithNoise\u001b[0;34m(model, image_x, image_y, y_noise)\u001b[0m\n\u001b[1;32m     <a href='vscode-notebook-cell:/home/rhtwe/UCL/machine_learning_for_physicists/ml_assignments/ImageRecognition.ipynb#X35sZmlsZQ%3D%3D?line=67'>68</a>\u001b[0m imagesWithNoise \u001b[39m=\u001b[39m np\u001b[39m.\u001b[39mempty([\u001b[39m10000\u001b[39m, image_x, image_y])\n\u001b[1;32m     <a href='vscode-notebook-cell:/home/rhtwe/UCL/machine_learning_for_physicists/ml_assignments/ImageRecognition.ipynb#X35sZmlsZQ%3D%3D?line=68'>69</a>\u001b[0m \u001b[39mfor\u001b[39;00m i \u001b[39min\u001b[39;00m \u001b[39mrange\u001b[39m(\u001b[39mlen\u001b[39m(imagesWithNoise[:,\u001b[39m0\u001b[39m,\u001b[39m0\u001b[39m])):\n\u001b[0;32m---> <a href='vscode-notebook-cell:/home/rhtwe/UCL/machine_learning_for_physicists/ml_assignments/ImageRecognition.ipynb#X35sZmlsZQ%3D%3D?line=69'>70</a>\u001b[0m     imagesWithNoise[i,:,:] \u001b[39m=\u001b[39m addNoise(test_images[i,:,:], y_noise)\n\u001b[1;32m     <a href='vscode-notebook-cell:/home/rhtwe/UCL/machine_learning_for_physicists/ml_assignments/ImageRecognition.ipynb#X35sZmlsZQ%3D%3D?line=71'>72</a>\u001b[0m test_loss, test_acc \u001b[39m=\u001b[39m model\u001b[39m.\u001b[39mevaluate(imagesWithNoise, test_labels, verbose\u001b[39m=\u001b[39m\u001b[39m2\u001b[39m)\n\u001b[1;32m     <a href='vscode-notebook-cell:/home/rhtwe/UCL/machine_learning_for_physicists/ml_assignments/ImageRecognition.ipynb#X35sZmlsZQ%3D%3D?line=72'>73</a>\u001b[0m \u001b[39mreturn\u001b[39;00m test_loss, test_acc\n",
      "\u001b[1;32m/home/rhtwe/UCL/machine_learning_for_physicists/ml_assignments/ImageRecognition.ipynb Cell 19\u001b[0m in \u001b[0;36maddNoise\u001b[0;34m(image, y_noise)\u001b[0m\n\u001b[1;32m     <a href='vscode-notebook-cell:/home/rhtwe/UCL/machine_learning_for_physicists/ml_assignments/ImageRecognition.ipynb#X35sZmlsZQ%3D%3D?line=16'>17</a>\u001b[0m \u001b[39mfor\u001b[39;00m i \u001b[39min\u001b[39;00m \u001b[39mrange\u001b[39m(image_x):\n\u001b[1;32m     <a href='vscode-notebook-cell:/home/rhtwe/UCL/machine_learning_for_physicists/ml_assignments/ImageRecognition.ipynb#X35sZmlsZQ%3D%3D?line=17'>18</a>\u001b[0m     \u001b[39mfor\u001b[39;00m j \u001b[39min\u001b[39;00m \u001b[39mrange\u001b[39m(image_y):\n\u001b[0;32m---> <a href='vscode-notebook-cell:/home/rhtwe/UCL/machine_learning_for_physicists/ml_assignments/ImageRecognition.ipynb#X35sZmlsZQ%3D%3D?line=18'>19</a>\u001b[0m         newImage[i,j] \u001b[39m=\u001b[39m image[i,j] \u001b[39m+\u001b[39m np\u001b[39m.\u001b[39;49mrandom\u001b[39m.\u001b[39;49muniform(\u001b[39m0\u001b[39;49m, y_noise)\n\u001b[1;32m     <a href='vscode-notebook-cell:/home/rhtwe/UCL/machine_learning_for_physicists/ml_assignments/ImageRecognition.ipynb#X35sZmlsZQ%3D%3D?line=20'>21</a>\u001b[0m \u001b[39mreturn\u001b[39;00m newImage\n",
      "\u001b[0;31mKeyboardInterrupt\u001b[0m: "
     ]
    }
   ],
   "source": [
    "training_noises = np.linspace(0, 0.5, 6)\n",
    "num_noises = 10\n",
    "all_accuracies = np.empty([len(training_noises), num_noises])\n",
    "\n",
    "for j in range(len(training_noises)):\n",
    "\n",
    "    # train model with noisy data\n",
    "    acc, loss = trainWithNoise(model, image_x, image_y, training_noises[j], 100, 20)\n",
    "\n",
    "    # test model accuracy against noisy data\n",
    "    noises = np.linspace(0, 2, num_noises)\n",
    "    for i in range(len(noises)):\n",
    "        print(f\"y_noise = {noises[i]}:\")\n",
    "        test_loss, test_acc = accuracyWithNoise(model, image_x, image_y, noises[i])\n",
    "        all_accuracies[j,i] = test_acc\n",
    "\n",
    "\n",
    "#fig, ax = plt.subplots()\n",
    "#ax.plot(noises, accuracies_1)\n",
    "#ax.set_xlabel('Maximum noise level')\n",
    "#ax.set_ylabel('Model accuracy')\n",
    "#ax.set_title('Model accuracy when evaluated against noisy data')"
   ]
  }
 ],
 "metadata": {
  "kernelspec": {
   "display_name": "Python 3.9.2 64-bit",
   "language": "python",
   "name": "python3"
  },
  "language_info": {
   "codemirror_mode": {
    "name": "ipython",
    "version": 3
   },
   "file_extension": ".py",
   "mimetype": "text/x-python",
   "name": "python",
   "nbconvert_exporter": "python",
   "pygments_lexer": "ipython3",
   "version": "3.9.2"
  },
  "orig_nbformat": 4,
  "vscode": {
   "interpreter": {
    "hash": "e7370f93d1d0cde622a1f8e1c04877d8463912d04d973331ad4851f04de6915a"
   }
  }
 },
 "nbformat": 4,
 "nbformat_minor": 2
}
