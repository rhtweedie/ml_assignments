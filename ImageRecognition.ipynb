{
 "cells": [
  {
   "cell_type": "markdown",
   "metadata": {},
   "source": [
    "## Week 3 - Image Recognition\n",
    "\n",
    "### Heather Tweedie, 1/2/23"
   ]
  },
  {
   "cell_type": "code",
   "execution_count": 1,
   "metadata": {},
   "outputs": [
    {
     "name": "stderr",
     "output_type": "stream",
     "text": [
      "2023-02-01 12:34:26.037095: I tensorflow/core/platform/cpu_feature_guard.cc:193] This TensorFlow binary is optimized with oneAPI Deep Neural Network Library (oneDNN) to use the following CPU instructions in performance-critical operations:  AVX2 AVX512F AVX512_VNNI FMA\n",
      "To enable them in other operations, rebuild TensorFlow with the appropriate compiler flags.\n",
      "2023-02-01 12:34:26.221883: I tensorflow/core/util/port.cc:104] oneDNN custom operations are on. You may see slightly different numerical results due to floating-point round-off errors from different computation orders. To turn them off, set the environment variable `TF_ENABLE_ONEDNN_OPTS=0`.\n",
      "2023-02-01 12:34:26.229286: W tensorflow/compiler/xla/stream_executor/platform/default/dso_loader.cc:64] Could not load dynamic library 'libcudart.so.11.0'; dlerror: libcudart.so.11.0: cannot open shared object file: No such file or directory\n",
      "2023-02-01 12:34:26.229324: I tensorflow/compiler/xla/stream_executor/cuda/cudart_stub.cc:29] Ignore above cudart dlerror if you do not have a GPU set up on your machine.\n",
      "2023-02-01 12:34:26.967455: W tensorflow/compiler/xla/stream_executor/platform/default/dso_loader.cc:64] Could not load dynamic library 'libnvinfer.so.7'; dlerror: libnvinfer.so.7: cannot open shared object file: No such file or directory\n",
      "2023-02-01 12:34:26.967567: W tensorflow/compiler/xla/stream_executor/platform/default/dso_loader.cc:64] Could not load dynamic library 'libnvinfer_plugin.so.7'; dlerror: libnvinfer_plugin.so.7: cannot open shared object file: No such file or directory\n",
      "2023-02-01 12:34:26.967576: W tensorflow/compiler/tf2tensorrt/utils/py_utils.cc:38] TF-TRT Warning: Cannot dlopen some TensorRT libraries. If you would like to use Nvidia GPU with TensorRT, please make sure the missing libraries mentioned above are installed properly.\n"
     ]
    }
   ],
   "source": [
    "import matplotlib.pyplot as plt\n",
    "import numpy as np\n",
    "import math\n",
    "\n",
    "# TensorFlow and tf.keras\n",
    "import tensorflow as tf\n",
    "from tensorflow import keras\n",
    "\n",
    "import matplotlib.style #Some style nonsense\n",
    "import matplotlib as mpl #Some more style nonsense\n",
    "\n",
    "#Set default figure size\n",
    "#mpl.rcParams['figure.figsize'] = [12.0, 8.0] #Inches... of course it is inches\n",
    "mpl.rcParams[\"legend.frameon\"] = False\n",
    "mpl.rcParams['figure.dpi']=200 # dots per inch\n"
   ]
  },
  {
   "cell_type": "code",
   "execution_count": 2,
   "metadata": {},
   "outputs": [
    {
     "name": "stdout",
     "output_type": "stream",
     "text": [
      "Shape of training images: (60000, 28, 28)\n",
      "Length of training set labels: 60000\n",
      "First label: 5\n",
      "Shape of testing images: (10000, 28, 28)\n",
      "Length of testing set labels: 10000\n"
     ]
    }
   ],
   "source": [
    "# load data\n",
    "mnist = keras.datasets.mnist\n",
    "(train_images, train_labels), (test_images, test_labels) = mnist.load_data()\n",
    "\n",
    "# re-scale inputs\n",
    "train_images=train_images/255.0\n",
    "test_images=test_images/255.0\n",
    "\n",
    "# check shape of datasets\n",
    "print(\"Shape of training images:\",train_images.shape)\n",
    "print(\"Length of training set labels:\",len(train_labels))\n",
    "print(\"First label:\",train_labels[0])\n",
    "print(\"Shape of testing images:\",test_images.shape)\n",
    "print(\"Length of testing set labels:\",len(test_labels))\n",
    "\n",
    "image_x = len(train_images[0,:,0])\n",
    "image_y = len(train_images[0,0,:])"
   ]
  },
  {
   "cell_type": "code",
   "execution_count": 3,
   "metadata": {},
   "outputs": [],
   "source": [
    "def addNoise(image, y_noise):\n",
    "    \"\"\"\n",
    "    Adds a random noise contribution drawn from a uniform distribution between 0 and a user-defined maximum to an image.\n",
    "    \n",
    "    Args:\n",
    "        image: the image to which the noise will be added\n",
    "        y_noise: the maximum value for the uniform distribution from which the random noise contribution will be drawn\n",
    "\n",
    "    Returns:\n",
    "        newImage: the new image with noise added\n",
    "    \"\"\"\n",
    "    # get image dimensions\n",
    "    image_x = 28\n",
    "    image_y = 28\n",
    "\n",
    "    newImage = np.empty([image_x, image_y])\n",
    "    for i in range(image_x):\n",
    "        for j in range(image_y):\n",
    "            newImage[i,j] = image[i,j] + np.random.uniform(0, y_noise)\n",
    "\n",
    "    return newImage\n",
    "    \n"
   ]
  },
  {
   "cell_type": "code",
   "execution_count": 4,
   "metadata": {},
   "outputs": [],
   "source": [
    "def trainWithNoise(model, image_x, image_y, y_noise, batchSize, nepochs):\n",
    "    \"\"\"\n",
    "    Trains a model on MNIST image data with noise added, and evaluates it.\n",
    "    \n",
    "    Args:\n",
    "        model: the model to be trained\n",
    "        image_x: the x length of the image\n",
    "        image_y: the y length of the image\n",
    "        y_noise: the maximum value for the uniform distribution from which the random noise contribution will be drawn\n",
    "        batchSize: the number of samples to be drawn during each step of the training\n",
    "        nepochs: the number of epochs of training to be carried out\n",
    "    \n",
    "    Returns:\n",
    "        test_loss: the cost function after training\n",
    "        test_acc: the accuracy of the model based on testing on a test set of images\n",
    "    \"\"\"\n",
    "\n",
    "    imagesWithNoise = np.empty([10000, image_x, image_y])\n",
    "    for i in range(len(imagesWithNoise[:,0,0])):\n",
    "        imagesWithNoise[i,:,:] = addNoise(test_images[i,:,:], 3)\n",
    "\n",
    "    history = model.fit(imagesWithNoise, train_labels, batch_size = batchSize, epochs = nepochs)\n",
    "\n",
    "    test_loss, test_acc = model.evaluate(test_images,  test_labels, verbose=2)\n",
    "    return test_loss, test_acc"
   ]
  },
  {
   "cell_type": "code",
   "execution_count": 5,
   "metadata": {},
   "outputs": [],
   "source": [
    "def accuracyWithNoise(model, image_x, image_y, y_noise):\n",
    "    \"\"\"\n",
    "    Evaluates a model trained on MNIST data on a test dataset with noise added.\n",
    "    \n",
    "    Args:\n",
    "        model: the model to be evaluated\n",
    "        image_x: the x length of the image\n",
    "        image_y: the y length of the image\n",
    "        y_noise: the maximum value for the uniform distribution from which the random noise contribution will be drawn\n",
    "    \n",
    "    Returns:\n",
    "        test_loss: the cost of the model\n",
    "        test_acc: the accuracy of the model\n",
    "    \"\"\"\n",
    "\n",
    "    imagesWithNoise = np.empty([10000, image_x, image_y])\n",
    "    for i in range(len(imagesWithNoise[:,0,0])):\n",
    "        imagesWithNoise[i,:,:] = addNoise(test_images[i,:,:], y_noise)\n",
    "\n",
    "    test_loss, test_acc = model.evaluate(imagesWithNoise, test_labels, verbose=2)\n",
    "    return test_loss, test_acc"
   ]
  },
  {
   "cell_type": "markdown",
   "metadata": {},
   "source": [
    "We now define an compile the network on which we will train the data..."
   ]
  },
  {
   "cell_type": "code",
   "execution_count": 6,
   "metadata": {},
   "outputs": [
    {
     "name": "stderr",
     "output_type": "stream",
     "text": [
      "2023-02-01 12:34:28.441680: W tensorflow/compiler/xla/stream_executor/platform/default/dso_loader.cc:64] Could not load dynamic library 'libcuda.so.1'; dlerror: libcuda.so.1: cannot open shared object file: No such file or directory\n",
      "2023-02-01 12:34:28.441740: W tensorflow/compiler/xla/stream_executor/cuda/cuda_driver.cc:265] failed call to cuInit: UNKNOWN ERROR (303)\n",
      "2023-02-01 12:34:28.441788: I tensorflow/compiler/xla/stream_executor/cuda/cuda_diagnostics.cc:156] kernel driver does not appear to be running on this host (penguin): /proc/driver/nvidia/version does not exist\n",
      "2023-02-01 12:34:28.442384: I tensorflow/core/platform/cpu_feature_guard.cc:193] This TensorFlow binary is optimized with oneAPI Deep Neural Network Library (oneDNN) to use the following CPU instructions in performance-critical operations:  AVX2 AVX512F AVX512_VNNI FMA\n",
      "To enable them in other operations, rebuild TensorFlow with the appropriate compiler flags.\n",
      "WARNING:absl:`lr` is deprecated, please use `learning_rate` instead, or use the legacy optimizer, e.g.,tf.keras.optimizers.legacy.SGD.\n"
     ]
    }
   ],
   "source": [
    "model = keras.Sequential([\n",
    "    keras.layers.Flatten(input_shape=(28,28)),\n",
    "    keras.layers.Dense(128,activation='relu'),\n",
    "    keras.layers.Dense(10)\n",
    "])\n",
    "\n",
    "model.compile(loss=tf.keras.losses.SparseCategoricalCrossentropy(from_logits=True), optimizer=tf.keras.optimizers.SGD(lr=1.0),\n",
    "              metrics=['accuracy'])"
   ]
  },
  {
   "cell_type": "markdown",
   "metadata": {},
   "source": [
    "Train the model on the MNIST dataset:"
   ]
  },
  {
   "cell_type": "code",
   "execution_count": 7,
   "metadata": {},
   "outputs": [
    {
     "name": "stdout",
     "output_type": "stream",
     "text": [
      "Epoch 1/25\n",
      "429/429 [==============================] - 1s 2ms/step - loss: 1.2106 - accuracy: 0.7196\n",
      "Epoch 2/25\n",
      "429/429 [==============================] - 2s 5ms/step - loss: 0.5655 - accuracy: 0.8640\n",
      "Epoch 3/25\n",
      "429/429 [==============================] - 2s 5ms/step - loss: 0.4473 - accuracy: 0.8842\n",
      "Epoch 4/25\n",
      "429/429 [==============================] - 2s 4ms/step - loss: 0.3963 - accuracy: 0.8936\n",
      "Epoch 5/25\n",
      "429/429 [==============================] - 3s 6ms/step - loss: 0.3663 - accuracy: 0.9006\n",
      "Epoch 6/25\n",
      "429/429 [==============================] - 3s 6ms/step - loss: 0.3457 - accuracy: 0.9050\n",
      "Epoch 7/25\n",
      "429/429 [==============================] - 2s 6ms/step - loss: 0.3298 - accuracy: 0.9084\n",
      "Epoch 8/25\n",
      "429/429 [==============================] - 3s 6ms/step - loss: 0.3170 - accuracy: 0.9123\n",
      "Epoch 9/25\n",
      "429/429 [==============================] - 2s 5ms/step - loss: 0.3061 - accuracy: 0.9144\n",
      "Epoch 10/25\n",
      "429/429 [==============================] - 3s 6ms/step - loss: 0.2966 - accuracy: 0.9175\n",
      "Epoch 11/25\n",
      "429/429 [==============================] - 3s 6ms/step - loss: 0.2880 - accuracy: 0.9196\n",
      "Epoch 12/25\n",
      "429/429 [==============================] - 3s 6ms/step - loss: 0.2802 - accuracy: 0.9214\n",
      "Epoch 13/25\n",
      "429/429 [==============================] - 2s 5ms/step - loss: 0.2732 - accuracy: 0.9233\n",
      "Epoch 14/25\n",
      "429/429 [==============================] - 2s 5ms/step - loss: 0.2665 - accuracy: 0.9253\n",
      "Epoch 15/25\n",
      "429/429 [==============================] - 3s 6ms/step - loss: 0.2602 - accuracy: 0.9269\n",
      "Epoch 16/25\n",
      "429/429 [==============================] - 3s 6ms/step - loss: 0.2544 - accuracy: 0.9283\n",
      "Epoch 17/25\n",
      "429/429 [==============================] - 2s 6ms/step - loss: 0.2488 - accuracy: 0.9303\n",
      "Epoch 18/25\n",
      "429/429 [==============================] - 2s 5ms/step - loss: 0.2435 - accuracy: 0.9320\n",
      "Epoch 19/25\n",
      "429/429 [==============================] - 3s 6ms/step - loss: 0.2386 - accuracy: 0.9334\n",
      "Epoch 20/25\n",
      "429/429 [==============================] - 1s 3ms/step - loss: 0.2338 - accuracy: 0.9346\n",
      "Epoch 21/25\n",
      "429/429 [==============================] - 2s 4ms/step - loss: 0.2292 - accuracy: 0.9367\n",
      "Epoch 22/25\n",
      "429/429 [==============================] - 2s 5ms/step - loss: 0.2249 - accuracy: 0.9379\n",
      "Epoch 23/25\n",
      "429/429 [==============================] - 2s 5ms/step - loss: 0.2207 - accuracy: 0.9388\n",
      "Epoch 24/25\n",
      "429/429 [==============================] - 2s 5ms/step - loss: 0.2166 - accuracy: 0.9400\n",
      "Epoch 25/25\n",
      "429/429 [==============================] - 2s 5ms/step - loss: 0.2127 - accuracy: 0.9413\n"
     ]
    }
   ],
   "source": [
    "history = model.fit(train_images, train_labels, batch_size=140, epochs=25)"
   ]
  },
  {
   "cell_type": "markdown",
   "metadata": {},
   "source": [
    "Evaluate accuracy of model for different noise levels:"
   ]
  },
  {
   "cell_type": "code",
   "execution_count": 8,
   "metadata": {},
   "outputs": [
    {
     "name": "stdout",
     "output_type": "stream",
     "text": [
      "313/313 - 0s - loss: 0.2098 - accuracy: 0.9427 - 357ms/epoch - 1ms/step\n"
     ]
    }
   ],
   "source": [
    "# test model accuracy\n",
    "test_loss, test_acc = model.evaluate(test_images,  test_labels, verbose=2)"
   ]
  },
  {
   "cell_type": "code",
   "execution_count": 9,
   "metadata": {},
   "outputs": [
    {
     "name": "stdout",
     "output_type": "stream",
     "text": [
      "y_noise = 0.0:\n",
      "313/313 - 0s - loss: 0.2098 - accuracy: 0.9427 - 270ms/epoch - 863us/step\n",
      "y_noise = 1.0:\n",
      "313/313 - 0s - loss: 3.4329 - accuracy: 0.4863 - 261ms/epoch - 835us/step\n"
     ]
    }
   ],
   "source": [
    "# test model accurcy against noisy data\n",
    "noises = np.linspace(0, 1, 2)\n",
    "accuracies = np.empty([len(noises)])\n",
    "\n",
    "for i in range(len(noises)):\n",
    "    print(f\"y_noise = {noises[i]}:\")\n",
    "    test_loss, test_acc = accuracyWithNoise(model, image_x, image_y, noises[i])\n",
    "    accuracies[i] = test_acc\n"
   ]
  }
 ],
 "metadata": {
  "kernelspec": {
   "display_name": "Python 3.9.2 64-bit",
   "language": "python",
   "name": "python3"
  },
  "language_info": {
   "codemirror_mode": {
    "name": "ipython",
    "version": 3
   },
   "file_extension": ".py",
   "mimetype": "text/x-python",
   "name": "python",
   "nbconvert_exporter": "python",
   "pygments_lexer": "ipython3",
   "version": "3.9.2"
  },
  "orig_nbformat": 4,
  "vscode": {
   "interpreter": {
    "hash": "e7370f93d1d0cde622a1f8e1c04877d8463912d04d973331ad4851f04de6915a"
   }
  }
 },
 "nbformat": 4,
 "nbformat_minor": 2
}
